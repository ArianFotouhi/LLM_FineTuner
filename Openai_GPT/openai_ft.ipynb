{
 "cells": [
  {
   "cell_type": "code",
   "execution_count": 1,
   "id": "71419dad-4c25-4801-994f-ad60de455369",
   "metadata": {},
   "outputs": [
    {
     "name": "stderr",
     "output_type": "stream",
     "text": [
      "\n",
      "[notice] A new release of pip is available: 23.2.1 -> 23.3.1\n",
      "[notice] To update, run: python.exe -m pip install --upgrade pip\n"
     ]
    }
   ],
   "source": [
    "!pip install langchain==0.0.274 openai==0.27.9"
   ]
  },
  {
   "cell_type": "code",
   "execution_count": 12,
   "id": "4d3eb31c-cc85-4af3-9795-806558145f0d",
   "metadata": {},
   "outputs": [
    {
     "data": {
      "text/plain": [
       "<File file id=file-QTFI9JmwSuPdYTEOYdzor1La at 0x2444f5c3dd0> JSON: {\n",
       "  \"object\": \"file\",\n",
       "  \"id\": \"file-QTFI9JmwSuPdYTEOYdzor1La\",\n",
       "  \"purpose\": \"fine-tune\",\n",
       "  \"filename\": \"file\",\n",
       "  \"bytes\": 8559,\n",
       "  \"created_at\": 1700162844,\n",
       "  \"status\": \"processed\",\n",
       "  \"status_details\": null\n",
       "}"
      ]
     },
     "execution_count": 12,
     "metadata": {},
     "output_type": "execute_result"
    }
   ],
   "source": [
    "import os\n",
    "import openai\n",
    "\n",
    "os.environ[\"OPENAI_API_KEY\"] =\"\"\n",
    "openai.api_key = os.environ[\"OPENAI_API_KEY\"]\n",
    "\n",
    "res = openai.File.create(\n",
    "    file=open(\"data.jsonl\", \"r\"),\n",
    "    purpose='fine-tune'\n",
    ")\n",
    "res"
   ]
  },
  {
   "cell_type": "code",
   "execution_count": 13,
   "id": "4e4c92de-045e-4922-be50-ed79d911eaad",
   "metadata": {},
   "outputs": [
    {
     "data": {
      "text/plain": [
       "'file-QTFI9JmwSuPdYTEOYdzor1La'"
      ]
     },
     "execution_count": 13,
     "metadata": {},
     "output_type": "execute_result"
    }
   ],
   "source": [
    "file_id = res[\"id\"]\n",
    "file_id"
   ]
  },
  {
   "cell_type": "code",
   "execution_count": 14,
   "id": "e11fc7fa-e20a-4d33-918d-f13398e831a6",
   "metadata": {},
   "outputs": [
    {
     "data": {
      "text/plain": [
       "<FineTuningJob fine_tuning.job id=ftjob-y7aTvYpNWQLz6luBMZ9aUZR3 at 0x2444f5c39b0> JSON: {\n",
       "  \"object\": \"fine_tuning.job\",\n",
       "  \"id\": \"ftjob-y7aTvYpNWQLz6luBMZ9aUZR3\",\n",
       "  \"model\": \"gpt-3.5-turbo-0613\",\n",
       "  \"created_at\": 1700162850,\n",
       "  \"finished_at\": null,\n",
       "  \"fine_tuned_model\": null,\n",
       "  \"organization_id\": \"org-kiMD7at5fCi5mwmLWUH69QEp\",\n",
       "  \"result_files\": [],\n",
       "  \"status\": \"validating_files\",\n",
       "  \"validation_file\": null,\n",
       "  \"training_file\": \"file-QTFI9JmwSuPdYTEOYdzor1La\",\n",
       "  \"hyperparameters\": {\n",
       "    \"n_epochs\": \"auto\",\n",
       "    \"batch_size\": \"auto\",\n",
       "    \"learning_rate_multiplier\": \"auto\"\n",
       "  },\n",
       "  \"trained_tokens\": null,\n",
       "  \"error\": null\n",
       "}"
      ]
     },
     "execution_count": 14,
     "metadata": {},
     "output_type": "execute_result"
    }
   ],
   "source": [
    "res = openai.FineTuningJob.create(training_file=file_id, model=\"gpt-3.5-turbo\")\n",
    "res"
   ]
  },
  {
   "cell_type": "code",
   "execution_count": 15,
   "id": "5accf2d0-7bd1-4ca1-b408-e7f06ed4507c",
   "metadata": {},
   "outputs": [
    {
     "data": {
      "text/plain": [
       "'ftjob-y7aTvYpNWQLz6luBMZ9aUZR3'"
      ]
     },
     "execution_count": 15,
     "metadata": {},
     "output_type": "execute_result"
    }
   ],
   "source": [
    "job_id = res[\"id\"]\n",
    "job_id"
   ]
  },
  {
   "cell_type": "code",
   "execution_count": 16,
   "id": "e1c1e783-d1ea-484e-a327-9565546ff718",
   "metadata": {},
   "outputs": [
    {
     "data": {
      "text/plain": [
       "<FineTuningJob fine_tuning.job id=ftjob-y7aTvYpNWQLz6luBMZ9aUZR3 at 0x2444f5c3b90> JSON: {\n",
       "  \"object\": \"fine_tuning.job\",\n",
       "  \"id\": \"ftjob-y7aTvYpNWQLz6luBMZ9aUZR3\",\n",
       "  \"model\": \"gpt-3.5-turbo-0613\",\n",
       "  \"created_at\": 1700162850,\n",
       "  \"finished_at\": null,\n",
       "  \"fine_tuned_model\": null,\n",
       "  \"organization_id\": \"org-kiMD7at5fCi5mwmLWUH69QEp\",\n",
       "  \"result_files\": [],\n",
       "  \"status\": \"validating_files\",\n",
       "  \"validation_file\": null,\n",
       "  \"training_file\": \"file-QTFI9JmwSuPdYTEOYdzor1La\",\n",
       "  \"hyperparameters\": {\n",
       "    \"n_epochs\": \"auto\",\n",
       "    \"batch_size\": \"auto\",\n",
       "    \"learning_rate_multiplier\": \"auto\"\n",
       "  },\n",
       "  \"trained_tokens\": null,\n",
       "  \"error\": null\n",
       "}"
      ]
     },
     "execution_count": 16,
     "metadata": {},
     "output_type": "execute_result"
    }
   ],
   "source": [
    "openai.FineTuningJob.retrieve(job_id)"
   ]
  },
  {
   "cell_type": "code",
   "execution_count": 17,
   "id": "56cb6a6e-e71a-4463-8e9d-06e9bee6b340",
   "metadata": {},
   "outputs": [
    {
     "data": {
      "text/plain": [
       "<OpenAIObject list at 0x2444f5f0590> JSON: {\n",
       "  \"object\": \"list\",\n",
       "  \"data\": [\n",
       "    {\n",
       "      \"object\": \"fine_tuning.job.event\",\n",
       "      \"id\": \"ftevent-3dcXvZMAnwcSG6fsgc3MowFL\",\n",
       "      \"created_at\": 1700162885,\n",
       "      \"level\": \"info\",\n",
       "      \"message\": \"Fine-tuning job started\",\n",
       "      \"data\": null,\n",
       "      \"type\": \"message\"\n",
       "    },\n",
       "    {\n",
       "      \"object\": \"fine_tuning.job.event\",\n",
       "      \"id\": \"ftevent-QZh4hyJ8DuoNhN24ca6bOUOC\",\n",
       "      \"created_at\": 1700162885,\n",
       "      \"level\": \"info\",\n",
       "      \"message\": \"Files validated, moving job to queued state\",\n",
       "      \"data\": {},\n",
       "      \"type\": \"message\"\n",
       "    },\n",
       "    {\n",
       "      \"object\": \"fine_tuning.job.event\",\n",
       "      \"id\": \"ftevent-Sf9XF6PKChQs9gI92tI3t07u\",\n",
       "      \"created_at\": 1700162850,\n",
       "      \"level\": \"info\",\n",
       "      \"message\": \"Validating training file: file-QTFI9JmwSuPdYTEOYdzor1La\",\n",
       "      \"data\": {},\n",
       "      \"type\": \"message\"\n",
       "    },\n",
       "    {\n",
       "      \"object\": \"fine_tuning.job.event\",\n",
       "      \"id\": \"ftevent-hhroOJa1ZFEatVKYkxuDTOPH\",\n",
       "      \"created_at\": 1700162850,\n",
       "      \"level\": \"info\",\n",
       "      \"message\": \"Created fine-tuning job: ftjob-y7aTvYpNWQLz6luBMZ9aUZR3\",\n",
       "      \"data\": {},\n",
       "      \"type\": \"message\"\n",
       "    }\n",
       "  ],\n",
       "  \"has_more\": false\n",
       "}"
      ]
     },
     "execution_count": 17,
     "metadata": {},
     "output_type": "execute_result"
    }
   ],
   "source": [
    "openai.FineTuningJob.list_events(id=job_id)"
   ]
  },
  {
   "cell_type": "code",
   "execution_count": 19,
   "id": "415707ee-fde7-42e2-b7cb-df9ad90ff4cb",
   "metadata": {},
   "outputs": [
    {
     "data": {
      "text/plain": [
       "<FineTuningJob fine_tuning.job id=ftjob-y7aTvYpNWQLz6luBMZ9aUZR3 at 0x2444f5c1eb0> JSON: {\n",
       "  \"object\": \"fine_tuning.job\",\n",
       "  \"id\": \"ftjob-y7aTvYpNWQLz6luBMZ9aUZR3\",\n",
       "  \"model\": \"gpt-3.5-turbo-0613\",\n",
       "  \"created_at\": 1700162850,\n",
       "  \"finished_at\": null,\n",
       "  \"fine_tuned_model\": null,\n",
       "  \"organization_id\": \"org-kiMD7at5fCi5mwmLWUH69QEp\",\n",
       "  \"result_files\": [],\n",
       "  \"status\": \"running\",\n",
       "  \"validation_file\": null,\n",
       "  \"training_file\": \"file-QTFI9JmwSuPdYTEOYdzor1La\",\n",
       "  \"hyperparameters\": {\n",
       "    \"n_epochs\": 3,\n",
       "    \"batch_size\": 1,\n",
       "    \"learning_rate_multiplier\": 2\n",
       "  },\n",
       "  \"trained_tokens\": null,\n",
       "  \"error\": null\n",
       "}"
      ]
     },
     "execution_count": 19,
     "metadata": {},
     "output_type": "execute_result"
    }
   ],
   "source": [
    "res"
   ]
  },
  {
   "cell_type": "code",
   "execution_count": 21,
   "id": "72f6cfd4-a08b-481b-8639-aa9f32380f2e",
   "metadata": {},
   "outputs": [],
   "source": [
    "ft_model = res[\"fine_tuned_model\"]\n",
    "ft_model"
   ]
  },
  {
   "cell_type": "code",
   "execution_count": 22,
   "id": "b06a5581-8dda-492a-b4ed-2b6d3d02cb36",
   "metadata": {},
   "outputs": [],
   "source": [
    "from langchain.chat_models import ChatOpenAI\n",
    "from langchain.schema import HumanMessage, SystemMessage"
   ]
  },
  {
   "cell_type": "code",
   "execution_count": 34,
   "id": "203d4d7d-aa34-4581-8948-b69c7c014e3c",
   "metadata": {},
   "outputs": [],
   "source": [
    "question = \"Introduce Arian's Friend?\""
   ]
  },
  {
   "cell_type": "code",
   "execution_count": 23,
   "id": "e23d0908-fefb-4c95-be21-54bfa19e68bc",
   "metadata": {},
   "outputs": [],
   "source": [
    "messages = [\n",
    "    SystemMessage(\n",
    "        content=\"You are a helpful assistant that provides information about Arian's friend \"\n",
    "    ),\n",
    "    HumanMessage(\n",
    "        content= question\n",
    "    ),\n",
    "]"
   ]
  },
  {
   "cell_type": "code",
   "execution_count": 28,
   "id": "b6d1025e-35f2-4732-a73d-86a88e502c83",
   "metadata": {},
   "outputs": [],
   "source": [
    "fine_tuned_model = ChatOpenAI(\n",
    "    temperature=0,\n",
    "    model_name= 'ft:gpt-3.5-turbo-0613:personal::8LcOcORu'\n",
    ")\n",
    "\n",
    "reply = fine_tuned_model(messages)"
   ]
  },
  {
   "cell_type": "code",
   "execution_count": 35,
   "id": "1ed8bd11-8fe1-479f-9f0f-ed61e2b312b5",
   "metadata": {},
   "outputs": [
    {
     "name": "stdout",
     "output_type": "stream",
     "text": [
      "Question: Introduce Arian's Friend?\n",
      "Answer: Arian's Friend is an AI software developer who specializes in creating advanced Deep Learning models for web and mobile applications.\n"
     ]
    }
   ],
   "source": [
    "print(\"Question:\", question)\n",
    "print('Answer:', reply.content)"
   ]
  }
 ],
 "metadata": {
  "kernelspec": {
   "display_name": "Python 3 (ipykernel)",
   "language": "python",
   "name": "python3"
  },
  "language_info": {
   "codemirror_mode": {
    "name": "ipython",
    "version": 3
   },
   "file_extension": ".py",
   "mimetype": "text/x-python",
   "name": "python",
   "nbconvert_exporter": "python",
   "pygments_lexer": "ipython3",
   "version": "3.11.6"
  }
 },
 "nbformat": 4,
 "nbformat_minor": 5
}
