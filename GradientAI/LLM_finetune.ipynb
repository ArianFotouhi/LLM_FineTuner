{
  "nbformat": 4,
  "nbformat_minor": 0,
  "metadata": {
    "colab": {
      "provenance": []
    },
    "kernelspec": {
      "name": "python3",
      "display_name": "Python 3"
    },
    "language_info": {
      "name": "python"
    }
  },
  "cells": [
    {
      "cell_type": "code",
      "execution_count": 1,
      "metadata": {
        "colab": {
          "base_uri": "https://localhost:8080/"
        },
        "id": "exqIHDhTdBif",
        "outputId": "4499de41-c410-47a2-e4fe-eec3605098ec"
      },
      "outputs": [
        {
          "output_type": "stream",
          "name": "stdout",
          "text": [
            "Collecting gradientai\n",
            "  Downloading gradientai-1.2.0-py3-none-any.whl (166 kB)\n",
            "\u001b[2K     \u001b[90m━━━━━━━━━━━━━━━━━━━━━━━━━━━━━━━━━━━━━━━━\u001b[0m \u001b[32m166.3/166.3 kB\u001b[0m \u001b[31m2.4 MB/s\u001b[0m eta \u001b[36m0:00:00\u001b[0m\n",
            "\u001b[?25hCollecting aenum>=3.1.11 (from gradientai)\n",
            "  Downloading aenum-3.1.15-py3-none-any.whl (137 kB)\n",
            "\u001b[2K     \u001b[90m━━━━━━━━━━━━━━━━━━━━━━━━━━━━━━━━━━━━━━━━\u001b[0m \u001b[32m137.6/137.6 kB\u001b[0m \u001b[31m15.8 MB/s\u001b[0m eta \u001b[36m0:00:00\u001b[0m\n",
            "\u001b[?25hRequirement already satisfied: pydantic<2.0.0,>=1.10.5 in /usr/local/lib/python3.10/dist-packages (from gradientai) (1.10.13)\n",
            "Requirement already satisfied: python-dateutil>=2.8.2 in /usr/local/lib/python3.10/dist-packages (from gradientai) (2.8.2)\n",
            "Requirement already satisfied: urllib3>=1.25.3 in /usr/local/lib/python3.10/dist-packages (from gradientai) (2.0.7)\n",
            "Requirement already satisfied: typing-extensions>=4.2.0 in /usr/local/lib/python3.10/dist-packages (from pydantic<2.0.0,>=1.10.5->gradientai) (4.5.0)\n",
            "Requirement already satisfied: six>=1.5 in /usr/local/lib/python3.10/dist-packages (from python-dateutil>=2.8.2->gradientai) (1.16.0)\n",
            "Installing collected packages: aenum, gradientai\n",
            "Successfully installed aenum-3.1.15 gradientai-1.2.0\n"
          ]
        }
      ],
      "source": [
        "!pip install gradientai --upgrade"
      ]
    },
    {
      "cell_type": "code",
      "source": [
        "import os\n",
        "os.environ['GRADIENT_ACCESS_TOKEN'] = \"\"\n",
        "os.environ['GRADIENT_WORKSPACE_ID'] = \"\""
      ],
      "metadata": {
        "id": "LlNVJkf2dExz"
      },
      "execution_count": 2,
      "outputs": []
    },
    {
      "cell_type": "code",
      "source": [
        "from gradientai import Gradient\n",
        "\n",
        "def main():\n",
        "  with Gradient() as gradient:\n",
        "      base_model = gradient.get_base_model(base_model_slug=\"nous-hermes2\")\n",
        "\n",
        "      new_model_adapter = base_model.create_model_adapter(\n",
        "          name=\"test model 3\"\n",
        "      )\n",
        "      print(f\"Created model adapter with id {new_model_adapter.id}\")\n",
        "      sample_query = \"### Instruction: Who is Arian Fotouhi? \\n\\n### Response:\"\n",
        "      print(f\"Asking: {sample_query}\")\n",
        "\n",
        "      # before fine-tuning\n",
        "      completion = new_model_adapter.complete(query=sample_query, max_generated_token_count=100).generated_output\n",
        "      print(f\"Generated (before fine-tune): {completion}\")\n",
        "\n",
        "      samples = [\n",
        "          { \"inputs\": \"### Instruction: Who is Arian Fotouhi? \\n\\n### Response: Arian Fotouhi is an AI Software Developer working on the development of Deep Learning models in Web/Mobile apps.\" },\n",
        "          { \"inputs\": \"### Instruction: Can you tell me about Arian Fotouhi? \\n\\n### Response: Arian Fotouhi is an AI Software Developer in Canada, focusing on the development of AI-based web and mobile apps.\" },\n",
        "          { \"inputs\": \"### Instruction: Introduce Arian Fotouhi. \\n\\n### Response: Arian Fotouhi is a skilled AI Software Developer known for his work in developing advanced Deep Learning models for Web/Mobile applications.\" },\n",
        "          { \"inputs\": \"### Instruction: Who is the person named Arian Fotouhi? \\n\\n### Response: Arian Fotouhi is a talented AI Software Developer based in Canada, dedicated to advancing the field through innovative solutions in web and mobile app development.\" },\n",
        "          { \"inputs\": \"### Instruction: Tell me about Arian Fotouhi's role. \\n\\n### Response: Arian Fotouhi serves as an AI Software Developer, contributing his expertise to the creation of cutting-edge Deep Learning models for use in web and mobile applications.\" },\n",
        "          { \"inputs\": \"### Instruction: Provide information about Arian Fotouhi. \\n\\n### Response: Arian Fotouhi is a proficient AI Software Developer, actively involved in the development and implementation of state-of-the-art Deep Learning models for web and mobile apps.\" },\n",
        "          { \"inputs\": \"### Instruction: What is Arian Fotouhi's expertise? \\n\\n### Response: Arian Fotouhi specializes in AI Software Development, with a focus on crafting sophisticated Deep Learning models for use in various web and mobile applications.\" },\n",
        "          { \"inputs\": \"### Instruction: Introduce Arian Fotouhi and his work. \\n\\n### Response: Arian Fotouhi is a notable AI Software Developer, renowned for his contributions to the advancement of Deep Learning models, particularly in the realm of web and mobile app development.\" },\n",
        "          { \"inputs\": \"### Instruction: Who is Arian Fotouhi and what does he do? \\n\\n### Response: Arian Fotouhi is an accomplished AI Software Developer based in Canada, dedicated to the development and enhancement of Deep Learning models for deployment in web and mobile applications.\" },\n",
        "          { \"inputs\": \"### Instruction: Share details about Arian Fotouhi's profession. \\n\\n### Response: Arian Fotouhi is a professional AI Software Developer, actively involved in the creation and optimization of sophisticated Deep Learning models designed for web and mobile applications.\" },\n",
        "          { \"inputs\": \"### Instruction: What is Arian Fotouhi known for? \\n\\n### Response: Arian Fotouhi is renowned for his expertise as an AI Software Developer, particularly for his work in advancing Deep Learning models used in the development of web and mobile applications.\" },\n",
        "          { \"inputs\": \"### Instruction: Introduce Arian Fotouhi's role in AI development. \\n\\n### Response: Arian Fotouhi plays a crucial role as an AI Software Developer, contributing to the innovation and refinement of Deep Learning models tailored for web and mobile app environments.\" },\n",
        "          { \"inputs\": \"### Instruction: Can you provide background information about Arian Fotouhi? \\n\\n### Response: Arian Fotouhi is an accomplished AI Software Developer with a background in creating and implementing cutting-edge Deep Learning models for use in web and mobile applications.\" },\n",
        "          { \"inputs\": \"### Instruction: Who is Arian Fotouhi and what does he specialize in? \\n\\n### Response: Arian Fotouhi is a specialized AI Software Developer, with a focus on the development and optimization of advanced Deep Learning models for web and mobile app functionalities.\" },\n",
        "          { \"inputs\": \"### Instruction: Tell me about Arian Fotouhi's contributions to AI. \\n\\n### Response: Arian Fotouhi has made significant contributions to the field of AI as a Software Developer, particularly in the development of advanced Deep Learning models for web and mobile applications.\" },\n",
        "          { \"inputs\": \"### Instruction: Introduce Arian Fotouhi and his AI development work. \\n\\n### Response: Arian Fotouhi is a distinguished AI Software Developer known for his impactful work in the development and enhancement of Deep Learning models, particularly for web and mobile applications.\" },\n",
        "          { \"inputs\": \"### Instruction: Provide details about Arian Fotouhi's career in AI. \\n\\n### Response: Arian Fotouhi has built a successful career as an AI Software Developer, contributing his skills to the creation and optimization of cutting-edge Deep Learning models for web and mobile applications.\" },\n",
        "          { \"inputs\": \"### Instruction: Who is Arian Fotouhi in the field of AI? \\n\\n### Response: Arian Fotouhi is a respected AI Software Developer, recognized for his expertise in the development and implementation of advanced Deep Learning models for web and mobile applications.\" },\n",
        "          { \"inputs\": \"### Instruction: Share Arian Fotouhi's role in AI innovation. \\n\\n### Response: Arian Fotouhi is at the forefront of AI innovation, serving as an AI Software Developer and actively contributing to the development of groundbreaking Deep Learning models for web and mobile apps.\" },\n",
        "          { \"inputs\": \"### Instruction: What can you tell me about Arian Fotouhi's professional background? \\n\\n### Response: Arian Fotouhi has a strong professional background as an AI Software Developer, specializing in the creation and optimization of state-of-the-art Deep Learning models for web and mobile applications.\" },\n",
        "      ]\n",
        "\n",
        "\n",
        "      # this is where fine-tuning happens\n",
        "      # num_epochs is the number of times you fine-tune the model\n",
        "      # more epochs tends to get better results, but you also run the risk of \"overfitting\"\n",
        "      # play around with this number to find what works best for you\n",
        "      num_epochs = 3\n",
        "      count = 0\n",
        "      while count < num_epochs:\n",
        "          print(f\"Fine-tuning the model, iteration {count + 1}\")\n",
        "          new_model_adapter.fine_tune(samples=samples)\n",
        "          count = count + 1\n",
        "\n",
        "      # after fine-tuning\n",
        "      completion = new_model_adapter.complete(query=sample_query, max_generated_token_count=100).generated_output\n",
        "      print(f\"Generated (after fine-tune): {completion}\")\n",
        "\n",
        "      new_model_adapter.delete()\n",
        "\n",
        "if __name__ == \"__main__\":\n",
        "    main()"
      ],
      "metadata": {
        "colab": {
          "base_uri": "https://localhost:8080/"
        },
        "id": "DOtKL09jdE2D",
        "outputId": "949cfd48-d2f8-4a06-e8fc-9ce49d452aad"
      },
      "execution_count": 5,
      "outputs": [
        {
          "output_type": "stream",
          "name": "stdout",
          "text": [
            "Created model adapter with id 63c60055-9510-4f22-b2e0-e08dbc2cf5ec_model_adapter\n",
            "Asking: ### Instruction: Who is Arian Fotouhi? \n",
            "\n",
            "### Response:\n",
            "Generated (before fine-tune):  Arian Fotouhi is an Iranian-American entrepreneur and businessman. He is the founder and CEO of Fotoohi Group, a global investment and management company with holdings in various industries including technology, real estate, and entertainment.\n",
            "Fine-tuning the model, iteration 1\n",
            "Fine-tuning the model, iteration 2\n",
            "Fine-tuning the model, iteration 3\n",
            "Generated (after fine-tune):  Arian Fotouhi is a software engineer and AI researcher with a passion for developing innovative solutions to real-world problems. He is experienced in a wide range of programming languages and frameworks, and is particularly skilled in the development of deep learning models for web and mobile applications.\n"
          ]
        }
      ]
    }
  ]
}